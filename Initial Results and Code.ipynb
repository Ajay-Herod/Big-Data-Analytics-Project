{
 "cells": [
  {
   "cell_type": "code",
   "execution_count": 3,
   "metadata": {},
   "outputs": [],
   "source": [
    "pip install pandas"
   ]
  },
  {
   "cell_type": "code",
   "execution_count": null,
   "metadata": {},
   "outputs": [],
   "source": [
    "pip install sklearn"
   ]
  },
  {
   "cell_type": "code",
   "execution_count": null,
   "metadata": {},
   "outputs": [],
   "source": [
    "pip install numpy"
   ]
  },
  {
   "cell_type": "raw",
   "metadata": {},
   "source": [
    "pip install keras"
   ]
  },
  {
   "cell_type": "code",
   "execution_count": 3,
   "metadata": {},
   "outputs": [
    {
     "name": "stdout",
     "output_type": "stream",
     "text": [
      "Collecting tensorflow\n",
      "  Using cached tensorflow-2.4.1-cp37-cp37m-manylinux2010_x86_64.whl (394.3 MB)\n",
      "Collecting flatbuffers~=1.12.0\n",
      "  Using cached flatbuffers-1.12-py2.py3-none-any.whl (15 kB)\n",
      "Collecting keras-preprocessing~=1.1.2\n",
      "  Using cached Keras_Preprocessing-1.1.2-py2.py3-none-any.whl (42 kB)\n",
      "Requirement already satisfied: typing-extensions~=3.7.4 in /opt/conda/lib/python3.7/site-packages (from tensorflow) (3.7.4.2)\n",
      "Collecting absl-py~=0.10\n",
      "  Downloading absl_py-0.12.0-py3-none-any.whl (129 kB)\n",
      "\u001b[K     |████████████████████████████████| 129 kB 5.3 MB/s eta 0:00:01\n",
      "\u001b[?25hCollecting wheel~=0.35\n",
      "  Using cached wheel-0.36.2-py2.py3-none-any.whl (35 kB)\n",
      "Requirement already satisfied: h5py~=2.10.0 in /opt/conda/lib/python3.7/site-packages (from tensorflow) (2.10.0)\n",
      "Requirement already satisfied: protobuf>=3.9.2 in /opt/conda/lib/python3.7/site-packages (from tensorflow) (3.11.4)\n",
      "Collecting numpy~=1.19.2\n",
      "  Using cached numpy-1.19.5-cp37-cp37m-manylinux2010_x86_64.whl (14.8 MB)\n",
      "Processing /home/jovyan/.cache/pip/wheels/62/76/4c/aa25851149f3f6d9785f6c869387ad82b3fd37582fa8147ac6/wrapt-1.12.1-cp37-cp37m-linux_x86_64.whl\n",
      "Collecting gast==0.3.3\n",
      "  Using cached gast-0.3.3-py2.py3-none-any.whl (9.7 kB)\n",
      "Collecting grpcio~=1.32.0\n",
      "  Using cached grpcio-1.32.0-cp37-cp37m-manylinux2014_x86_64.whl (3.8 MB)\n",
      "Collecting tensorboard~=2.4\n",
      "  Using cached tensorboard-2.4.1-py3-none-any.whl (10.6 MB)\n",
      "Collecting opt-einsum~=3.3.0\n",
      "  Using cached opt_einsum-3.3.0-py3-none-any.whl (65 kB)\n",
      "Processing /home/jovyan/.cache/pip/wheels/3f/e3/ec/8a8336ff196023622fbcb36de0c5a5c218cbb24111d1d4c7f2/termcolor-1.1.0-py3-none-any.whl\n",
      "Collecting tensorflow-estimator<2.5.0,>=2.4.0\n",
      "  Using cached tensorflow_estimator-2.4.0-py2.py3-none-any.whl (462 kB)\n",
      "Collecting google-pasta~=0.2\n",
      "  Using cached google_pasta-0.2.0-py3-none-any.whl (57 kB)\n",
      "Collecting six~=1.15.0\n",
      "  Using cached six-1.15.0-py2.py3-none-any.whl (10 kB)\n",
      "Collecting astunparse~=1.6.3\n",
      "  Using cached astunparse-1.6.3-py2.py3-none-any.whl (12 kB)\n",
      "Requirement already satisfied: setuptools in /opt/conda/lib/python3.7/site-packages (from protobuf>=3.9.2->tensorflow) (46.1.3.post20200325)\n",
      "Collecting tensorboard-plugin-wit>=1.6.0\n",
      "  Using cached tensorboard_plugin_wit-1.8.0-py3-none-any.whl (781 kB)\n",
      "Collecting werkzeug>=0.11.15\n",
      "  Using cached Werkzeug-1.0.1-py2.py3-none-any.whl (298 kB)\n",
      "Collecting markdown>=2.6.8\n",
      "  Using cached Markdown-3.3.4-py3-none-any.whl (97 kB)\n",
      "Requirement already satisfied: google-auth<2,>=1.6.3 in /opt/conda/lib/python3.7/site-packages (from tensorboard~=2.4->tensorflow) (1.16.1)\n",
      "Requirement already satisfied: requests<3,>=2.21.0 in /opt/conda/lib/python3.7/site-packages (from tensorboard~=2.4->tensorflow) (2.23.0)\n",
      "Collecting google-auth-oauthlib<0.5,>=0.4.1\n",
      "  Using cached google_auth_oauthlib-0.4.3-py2.py3-none-any.whl (18 kB)\n",
      "Requirement already satisfied: importlib-metadata; python_version < \"3.8\" in /opt/conda/lib/python3.7/site-packages (from markdown>=2.6.8->tensorboard~=2.4->tensorflow) (1.6.0)\n",
      "Requirement already satisfied: cachetools<5.0,>=2.0.0 in /opt/conda/lib/python3.7/site-packages (from google-auth<2,>=1.6.3->tensorboard~=2.4->tensorflow) (4.1.0)\n",
      "Requirement already satisfied: pyasn1-modules>=0.2.1 in /opt/conda/lib/python3.7/site-packages (from google-auth<2,>=1.6.3->tensorboard~=2.4->tensorflow) (0.2.8)\n",
      "Requirement already satisfied: rsa<4.1,>=3.1.4 in /opt/conda/lib/python3.7/site-packages (from google-auth<2,>=1.6.3->tensorboard~=2.4->tensorflow) (4.0)\n",
      "Requirement already satisfied: chardet<4,>=3.0.2 in /opt/conda/lib/python3.7/site-packages (from requests<3,>=2.21.0->tensorboard~=2.4->tensorflow) (3.0.4)\n",
      "Requirement already satisfied: idna<3,>=2.5 in /opt/conda/lib/python3.7/site-packages (from requests<3,>=2.21.0->tensorboard~=2.4->tensorflow) (2.9)\n",
      "Requirement already satisfied: urllib3!=1.25.0,!=1.25.1,<1.26,>=1.21.1 in /opt/conda/lib/python3.7/site-packages (from requests<3,>=2.21.0->tensorboard~=2.4->tensorflow) (1.25.9)\n",
      "Requirement already satisfied: certifi>=2017.4.17 in /opt/conda/lib/python3.7/site-packages (from requests<3,>=2.21.0->tensorboard~=2.4->tensorflow) (2020.4.5.2)\n",
      "Requirement already satisfied: requests-oauthlib>=0.7.0 in /opt/conda/lib/python3.7/site-packages (from google-auth-oauthlib<0.5,>=0.4.1->tensorboard~=2.4->tensorflow) (1.3.0)\n",
      "Requirement already satisfied: zipp>=0.5 in /opt/conda/lib/python3.7/site-packages (from importlib-metadata; python_version < \"3.8\"->markdown>=2.6.8->tensorboard~=2.4->tensorflow) (3.1.0)\n",
      "Requirement already satisfied: pyasn1<0.5.0,>=0.4.6 in /opt/conda/lib/python3.7/site-packages (from pyasn1-modules>=0.2.1->google-auth<2,>=1.6.3->tensorboard~=2.4->tensorflow) (0.4.8)\n",
      "Requirement already satisfied: oauthlib>=3.0.0 in /opt/conda/lib/python3.7/site-packages (from requests-oauthlib>=0.7.0->google-auth-oauthlib<0.5,>=0.4.1->tensorboard~=2.4->tensorflow) (3.0.1)\n",
      "Installing collected packages: flatbuffers, six, numpy, keras-preprocessing, absl-py, wheel, wrapt, gast, grpcio, tensorboard-plugin-wit, werkzeug, markdown, google-auth-oauthlib, tensorboard, opt-einsum, termcolor, tensorflow-estimator, google-pasta, astunparse, tensorflow\n",
      "  Attempting uninstall: six\n",
      "    Found existing installation: six 1.14.0\n",
      "    Uninstalling six-1.14.0:\n",
      "      Successfully uninstalled six-1.14.0\n",
      "  Attempting uninstall: numpy\n",
      "    Found existing installation: numpy 1.18.4\n",
      "    Uninstalling numpy-1.18.4:\n",
      "      Successfully uninstalled numpy-1.18.4\n",
      "  Attempting uninstall: wheel\n",
      "    Found existing installation: wheel 0.34.2\n",
      "    Uninstalling wheel-0.34.2:\n",
      "      Successfully uninstalled wheel-0.34.2\n",
      "Successfully installed absl-py-0.12.0 astunparse-1.6.3 flatbuffers-1.12 gast-0.3.3 google-auth-oauthlib-0.4.3 google-pasta-0.2.0 grpcio-1.32.0 keras-preprocessing-1.1.2 markdown-3.3.4 numpy-1.19.5 opt-einsum-3.3.0 six-1.15.0 tensorboard-2.4.1 tensorboard-plugin-wit-1.8.0 tensorflow-2.4.1 tensorflow-estimator-2.4.0 termcolor-1.1.0 werkzeug-1.0.1 wheel-0.36.2 wrapt-1.12.1\n",
      "Note: you may need to restart the kernel to use updated packages.\n"
     ]
    }
   ],
   "source": [
    "pip install tensorflow"
   ]
  },
  {
   "cell_type": "code",
   "execution_count": null,
   "metadata": {},
   "outputs": [],
   "source": [
    "pip install matplotlib"
   ]
  },
  {
   "cell_type": "code",
   "execution_count": 72,
   "metadata": {},
   "outputs": [],
   "source": [
    "import pandas as pd\n",
    "from sklearn import preprocessing\n",
    "import numpy as np\n",
    "np.random.seed(1)\n",
    "import keras\n",
    "from keras.models import Model\n",
    "from keras.layers import Activation, Dense, Dropout, Input, LSTM, concatenate\n",
    "from keras import optimizers\n",
    "import tensorflow as tf\n",
    "tf.random.set_seed(1) "
   ]
  },
  {
   "cell_type": "code",
   "execution_count": 73,
   "metadata": {},
   "outputs": [],
   "source": [
    "#Function to calculate Exponential Moving Average using simple moving average \n",
    "def ema(values, i):\n",
    "    #Simple moving average\n",
    "    sma = np.mean(values[:, 3])\n",
    "    ema_values = [sma]\n",
    "    k = 2 / (1 + i)\n",
    "    for i in range(len(his) - i, len(his)):\n",
    "        close = his[i][3]\n",
    "        ema_values.append(close * k + ema_values[-1] * (1 - k))\n",
    "    return ema_values[-1]"
   ]
  },
  {
   "cell_type": "code",
   "execution_count": 74,
   "metadata": {},
   "outputs": [],
   "source": [
    "#history_points represents the set number of days that affect the next\n",
    "history_points = 50"
   ]
  },
  {
   "cell_type": "code",
   "execution_count": 75,
   "metadata": {},
   "outputs": [],
   "source": [
    "#Import .csv data and remove the Date attribute \n",
    "data = pd.read_csv('SPY.csv')\n",
    "data = data.drop('Date', axis=1)\n",
    "data = data.values"
   ]
  },
  {
   "cell_type": "code",
   "execution_count": 76,
   "metadata": {},
   "outputs": [],
   "source": [
    "#Normalize the data to a MinMaxScaler\n",
    "data_normaliser = preprocessing.MinMaxScaler()\n",
    "data_normalised = data_normaliser.fit_transform(data)"
   ]
  },
  {
   "cell_type": "code",
   "execution_count": 77,
   "metadata": {},
   "outputs": [],
   "source": [
    "#Using history_points, open, close, high, low, volume, data, points create OpenHighLowChart and next day open values\n",
    "ohlcv_histories_normalised = np.array([data_normalised[i:i + history_points].copy() for i in range(len(data_normalised) - history_points)])\n",
    "next_day_open_values_normalised = np.array([data_normalised[:, 0][i + history_points].copy() for i in range(len(data_normalised) - history_points)])\n",
    "next_day_open_values_normalised = np.expand_dims(next_day_open_values_normalised, -1)"
   ]
  },
  {
   "cell_type": "code",
   "execution_count": 78,
   "metadata": {},
   "outputs": [],
   "source": [
    "next_day_open_values = np.array([data[:, 0][i + history_points].copy() for i in range(len(data) - history_points)])\n",
    "next_day_open_values = np.expand_dims(next_day_open_values, -1)"
   ]
  },
  {
   "cell_type": "code",
   "execution_count": 79,
   "metadata": {},
   "outputs": [
    {
     "data": {
      "text/plain": [
       "MinMaxScaler(copy=True, feature_range=(0, 1))"
      ]
     },
     "execution_count": 79,
     "metadata": {},
     "output_type": "execute_result"
    }
   ],
   "source": [
    "#Normalize the data to a MinMaxScaler\n",
    "y_normaliser = preprocessing.MinMaxScaler()\n",
    "y_normaliser.fit(next_day_open_values)"
   ]
  },
  {
   "cell_type": "code",
   "execution_count": 80,
   "metadata": {},
   "outputs": [],
   "source": [
    "#Create technical indicators using simple and exponential moving average\n",
    "technical_indicators = []\n",
    "for his in ohlcv_histories_normalised:\n",
    "    #Simple moving average of the closing price\n",
    "    sma = np.mean(his[:, 3])\n",
    "    macd = ema(his, 12) - ema(his, 26)\n",
    "    #Add the simple and exponential moving average to the technical indicator \n",
    "    technical_indicators.append(np.array([sma,macd,]))"
   ]
  },
  {
   "cell_type": "code",
   "execution_count": 81,
   "metadata": {},
   "outputs": [],
   "source": [
    "technical_indicators = np.array(technical_indicators)\n",
    "\n",
    "tech_ind_scaler = preprocessing.MinMaxScaler()\n",
    "technical_indicators_normalised = tech_ind_scaler.fit_transform(technical_indicators)"
   ]
  },
  {
   "cell_type": "code",
   "execution_count": 82,
   "metadata": {},
   "outputs": [],
   "source": [
    "assert ohlcv_normalised.shape[0] == market_open_normalised.shape[0] == technical_ind_normalised.shape[0], \"data shapes are inconsistent\""
   ]
  },
  {
   "cell_type": "code",
   "execution_count": 83,
   "metadata": {},
   "outputs": [],
   "source": [
    "#Data Preparation\n",
    "#Split the data into Training and Testing 9-1 ratio\n",
    "test_split = 0.9\n",
    "#Split number (6322)\n",
    "n = int(ohlcv_histories_normalised.shape[0] * test_split)"
   ]
  },
  {
   "cell_type": "code",
   "execution_count": 84,
   "metadata": {},
   "outputs": [],
   "source": [
    "ohlcv_train = ohlcv_histories_normalised[:n]\n",
    "tech_ind_train = technical_indicators_normalised[:n]\n",
    "y_train = next_day_open_values_normalised[:n]"
   ]
  },
  {
   "cell_type": "code",
   "execution_count": 85,
   "metadata": {},
   "outputs": [],
   "source": [
    "ohlcv_test = ohlcv_histories_normalised[n:]\n",
    "tech_ind_test = technical_indicators_normalised[n:]\n",
    "y_test = next_day_open_values_normalised[n:]\n",
    "\n",
    "unscaled_y_test = next_day_open_values[n:]"
   ]
  },
  {
   "cell_type": "code",
   "execution_count": 86,
   "metadata": {},
   "outputs": [
    {
     "name": "stdout",
     "output_type": "stream",
     "text": [
      "(6322, 50, 6)\n",
      "(703, 50, 6)\n"
     ]
    }
   ],
   "source": [
    "print(ohlcv_train.shape)\n",
    "print(ohlcv_test.shape)"
   ]
  },
  {
   "cell_type": "code",
   "execution_count": 87,
   "metadata": {},
   "outputs": [],
   "source": [
    "#Create LSTM model\n",
    "#Define two sets of inputs\n",
    "lstm_input = Input(shape=(history_points, 6), name='lstm_input')\n",
    "dense_input = Input(shape=(technical_indicators_normalised.shape[1],), name='tech_input')"
   ]
  },
  {
   "cell_type": "code",
   "execution_count": 88,
   "metadata": {},
   "outputs": [],
   "source": [
    "#First branch operates on the first input\n",
    "x = LSTM(history_points, name='lstm_0')(lstm_input)\n",
    "x = Dropout(0.2, name='lstm_dropout_0')(x)\n",
    "lstm_branch = Model(inputs=lstm_input, outputs=x)"
   ]
  },
  {
   "cell_type": "code",
   "execution_count": 89,
   "metadata": {},
   "outputs": [],
   "source": [
    "#Second branch opreates on the second input\n",
    "y = Dense(20, name='tech_dense_0')(dense_input)\n",
    "y = Activation(\"relu\", name='tech_relu_0')(y)\n",
    "y = Dropout(0.2, name='tech_dropout_0')(y)\n",
    "technical_indicators_branch = Model(inputs=dense_input, outputs=y)"
   ]
  },
  {
   "cell_type": "code",
   "execution_count": 90,
   "metadata": {},
   "outputs": [],
   "source": [
    "#Combine the output of the two branches\n",
    "combined = concatenate([lstm_branch.output, technical_indicators_branch.output], name='concatenate')"
   ]
  },
  {
   "cell_type": "code",
   "execution_count": 91,
   "metadata": {},
   "outputs": [],
   "source": [
    "z = Dense(64, activation=\"sigmoid\", name='dense_pooling')(combined)\n",
    "z = Dense(1, activation=\"linear\", name='dense_out')(z)"
   ]
  },
  {
   "cell_type": "code",
   "execution_count": 92,
   "metadata": {},
   "outputs": [],
   "source": [
    "#Model will accept the inputs of the two branches and then output a single value\n",
    "model = Model(inputs=[lstm_branch.input, technical_indicators_branch.input], outputs=z)\n",
    "adam = optimizers.Adam(lr=0.0005)\n",
    "model.compile(optimizer=adam, loss='mse')"
   ]
  },
  {
   "cell_type": "code",
   "execution_count": 93,
   "metadata": {},
   "outputs": [
    {
     "name": "stdout",
     "output_type": "stream",
     "text": [
      "Epoch 1/50\n",
      "178/178 [==============================] - 9s 39ms/step - loss: 0.1805 - val_loss: 0.0060\n",
      "Epoch 2/50\n",
      "178/178 [==============================] - 6s 36ms/step - loss: 0.0014 - val_loss: 0.0032\n",
      "Epoch 3/50\n",
      "178/178 [==============================] - 6s 35ms/step - loss: 9.0594e-04 - val_loss: 5.2866e-04\n",
      "Epoch 4/50\n",
      "178/178 [==============================] - 6s 35ms/step - loss: 7.6005e-04 - val_loss: 2.5086e-04\n",
      "Epoch 5/50\n",
      "178/178 [==============================] - 6s 34ms/step - loss: 6.3473e-04 - val_loss: 1.7366e-04\n",
      "Epoch 6/50\n",
      "178/178 [==============================] - 6s 35ms/step - loss: 5.6505e-04 - val_loss: 2.6322e-04\n",
      "Epoch 7/50\n",
      "178/178 [==============================] - 6s 34ms/step - loss: 4.4788e-04 - val_loss: 1.4584e-04\n",
      "Epoch 8/50\n",
      "178/178 [==============================] - 6s 34ms/step - loss: 4.3198e-04 - val_loss: 2.6031e-04\n",
      "Epoch 9/50\n",
      "178/178 [==============================] - 6s 35ms/step - loss: 3.7250e-04 - val_loss: 1.8484e-04\n",
      "Epoch 10/50\n",
      "178/178 [==============================] - 6s 34ms/step - loss: 3.2943e-04 - val_loss: 1.7774e-04\n",
      "Epoch 11/50\n",
      "178/178 [==============================] - 6s 34ms/step - loss: 2.8809e-04 - val_loss: 3.8735e-04\n",
      "Epoch 12/50\n",
      "178/178 [==============================] - 6s 34ms/step - loss: 2.5150e-04 - val_loss: 9.7225e-04\n",
      "Epoch 13/50\n",
      "178/178 [==============================] - 6s 34ms/step - loss: 2.3261e-04 - val_loss: 2.9564e-04\n",
      "Epoch 14/50\n",
      "178/178 [==============================] - 6s 34ms/step - loss: 2.0428e-04 - val_loss: 2.7359e-04\n",
      "Epoch 15/50\n",
      "178/178 [==============================] - 6s 33ms/step - loss: 1.6716e-04 - val_loss: 1.6657e-04\n",
      "Epoch 16/50\n",
      "178/178 [==============================] - 6s 34ms/step - loss: 1.6480e-04 - val_loss: 4.0306e-04\n",
      "Epoch 17/50\n",
      "178/178 [==============================] - 6s 35ms/step - loss: 1.4587e-04 - val_loss: 2.3041e-04\n",
      "Epoch 18/50\n",
      "178/178 [==============================] - 6s 34ms/step - loss: 1.3768e-04 - val_loss: 3.3396e-04\n",
      "Epoch 19/50\n",
      "178/178 [==============================] - 6s 34ms/step - loss: 1.3082e-04 - val_loss: 3.3412e-04\n",
      "Epoch 20/50\n",
      "178/178 [==============================] - 6s 35ms/step - loss: 1.3234e-04 - val_loss: 1.3238e-04\n",
      "Epoch 21/50\n",
      "178/178 [==============================] - 6s 34ms/step - loss: 1.2970e-04 - val_loss: 2.1762e-04\n",
      "Epoch 22/50\n",
      "178/178 [==============================] - 6s 35ms/step - loss: 1.2348e-04 - val_loss: 8.5117e-05\n",
      "Epoch 23/50\n",
      "178/178 [==============================] - 6s 34ms/step - loss: 1.1573e-04 - val_loss: 7.1877e-05\n",
      "Epoch 24/50\n",
      "178/178 [==============================] - 6s 34ms/step - loss: 1.1672e-04 - val_loss: 1.0376e-04\n",
      "Epoch 25/50\n",
      "178/178 [==============================] - 6s 35ms/step - loss: 1.1639e-04 - val_loss: 2.7646e-04\n",
      "Epoch 26/50\n",
      "178/178 [==============================] - 6s 35ms/step - loss: 1.0649e-04 - val_loss: 7.0091e-05\n",
      "Epoch 27/50\n",
      "178/178 [==============================] - 6s 35ms/step - loss: 1.1338e-04 - val_loss: 3.5387e-04\n",
      "Epoch 28/50\n",
      "178/178 [==============================] - 6s 35ms/step - loss: 1.1724e-04 - val_loss: 1.6329e-04\n",
      "Epoch 29/50\n",
      "178/178 [==============================] - 6s 34ms/step - loss: 1.1154e-04 - val_loss: 1.5559e-04\n",
      "Epoch 30/50\n",
      "178/178 [==============================] - 6s 35ms/step - loss: 1.1647e-04 - val_loss: 8.4815e-05\n",
      "Epoch 31/50\n",
      "178/178 [==============================] - 6s 34ms/step - loss: 1.1257e-04 - val_loss: 7.3133e-05\n",
      "Epoch 32/50\n",
      "178/178 [==============================] - 6s 34ms/step - loss: 1.0414e-04 - val_loss: 5.4363e-05\n",
      "Epoch 33/50\n",
      "178/178 [==============================] - 6s 34ms/step - loss: 1.0121e-04 - val_loss: 1.1910e-04\n",
      "Epoch 34/50\n",
      "178/178 [==============================] - 6s 34ms/step - loss: 1.1464e-04 - val_loss: 1.4560e-04\n",
      "Epoch 35/50\n",
      "178/178 [==============================] - 6s 34ms/step - loss: 1.0329e-04 - val_loss: 1.5857e-04\n",
      "Epoch 36/50\n",
      "178/178 [==============================] - 6s 33ms/step - loss: 1.0198e-04 - val_loss: 1.9201e-04\n",
      "Epoch 37/50\n",
      "178/178 [==============================] - 6s 34ms/step - loss: 1.0479e-04 - val_loss: 8.9917e-05\n",
      "Epoch 38/50\n",
      "178/178 [==============================] - 6s 33ms/step - loss: 1.1059e-04 - val_loss: 8.0025e-05\n",
      "Epoch 39/50\n",
      "178/178 [==============================] - 6s 33ms/step - loss: 9.7159e-05 - val_loss: 4.1494e-04\n",
      "Epoch 40/50\n",
      "178/178 [==============================] - 6s 34ms/step - loss: 1.1652e-04 - val_loss: 1.2758e-04\n",
      "Epoch 41/50\n",
      "178/178 [==============================] - 6s 33ms/step - loss: 1.1206e-04 - val_loss: 1.3997e-04\n",
      "Epoch 42/50\n",
      "178/178 [==============================] - 6s 34ms/step - loss: 1.0116e-04 - val_loss: 9.2593e-05\n",
      "Epoch 43/50\n",
      "178/178 [==============================] - 6s 34ms/step - loss: 9.2469e-05 - val_loss: 3.8650e-05\n",
      "Epoch 44/50\n",
      "178/178 [==============================] - 6s 33ms/step - loss: 1.1257e-04 - val_loss: 1.5640e-04\n",
      "Epoch 45/50\n",
      "178/178 [==============================] - 6s 33ms/step - loss: 1.0092e-04 - val_loss: 2.8553e-04\n",
      "Epoch 46/50\n",
      "178/178 [==============================] - 6s 33ms/step - loss: 1.0463e-04 - val_loss: 8.8256e-05\n",
      "Epoch 47/50\n",
      "178/178 [==============================] - 6s 33ms/step - loss: 9.4947e-05 - val_loss: 8.2154e-05\n",
      "Epoch 48/50\n",
      "178/178 [==============================] - 6s 33ms/step - loss: 1.0147e-04 - val_loss: 1.5089e-04\n",
      "Epoch 49/50\n",
      "178/178 [==============================] - 6s 33ms/step - loss: 1.0448e-04 - val_loss: 4.3716e-05\n",
      "Epoch 50/50\n",
      "178/178 [==============================] - 6s 33ms/step - loss: 1.0445e-04 - val_loss: 1.6957e-04\n"
     ]
    },
    {
     "data": {
      "text/plain": [
       "<tensorflow.python.keras.callbacks.History at 0x7f87e7532910>"
      ]
     },
     "execution_count": 93,
     "metadata": {},
     "output_type": "execute_result"
    }
   ],
   "source": [
    "#Train Model model.fit(x_train, y_train, validation_data = (x_test, y_test), epochs = 100, batch_size = 64, verbose = 1)\n",
    "model.fit(x=[ohlcv_train, tech_ind_train], y=y_train, batch_size=32, epochs=history_points, shuffle=True, validation_split=0.1)"
   ]
  },
  {
   "cell_type": "code",
   "execution_count": 94,
   "metadata": {},
   "outputs": [],
   "source": [
    "#Predict and check model performance \n",
    "y_test_predicted = model.predict([ohlcv_test, tech_ind_test])\n",
    "y_predicted = model.predict([ohlcv_histories_normalised, technical_indicators])"
   ]
  },
  {
   "cell_type": "code",
   "execution_count": 95,
   "metadata": {},
   "outputs": [],
   "source": [
    "#Denomaization or scaler inverse\n",
    "y_test_predicted = y_normaliser.inverse_transform(y_test_predicted)\n",
    "y_predicted = y_normaliser.inverse_transform(y_predicted)"
   ]
  },
  {
   "cell_type": "code",
   "execution_count": 96,
   "metadata": {},
   "outputs": [],
   "source": [
    "assert unscaled_y_test.shape == y_test_predicted.shape, \"data shapes are inconsistent\""
   ]
  },
  {
   "cell_type": "code",
   "execution_count": 97,
   "metadata": {},
   "outputs": [
    {
     "name": "stdout",
     "output_type": "stream",
     "text": [
      "76.2622006792431\n"
     ]
    }
   ],
   "source": [
    "#Calculate Root Mean Square Error performance \n",
    "rmse = np.mean(np.square(unscaled_y_test - y_test_predicted))\n",
    "scaled_mse = rmse / (np.max(unscaled_y_test) - np.min(unscaled_y_test)) * 100\n",
    "print(scaled_mse)"
   ]
  },
  {
   "cell_type": "code",
   "execution_count": 98,
   "metadata": {},
   "outputs": [
    {
     "data": {
      "image/png": "[encoded data removed]",
      "text/plain": [
       "<Figure size 1296x648 with 1 Axes>"
      ]
     },
     "metadata": {
      "needs_background": "light"
     },
     "output_type": "display_data"
    }
   ],
   "source": [
    "import matplotlib.pyplot as plt\n",
    "#Plot\n",
    "plt.gcf().set_size_inches(18, 9, forward=True)\n",
    "real = plt.plot(unscaled_y_test[0:-1], label='real')\n",
    "#Shift test predictions for plotting\n",
    "pred = plt.plot(y_test_predicted[0:-1], label='predicted')\n",
    "#Plot baseline and prediction\n",
    "plt.legend(['Real', 'Predicted'])\n",
    "plt.show()"
   ]
  },
  {
   "cell_type": "code",
   "execution_count": 99,
   "metadata": {},
   "outputs": [],
   "source": [
    "#Save model for trade program\n",
    "model.save(f'time_series_model.h5')"
   ]
  },
  {
   "cell_type": "code",
   "execution_count": null,
   "metadata": {},
   "outputs": [],
   "source": []
  }
 ],
 "metadata": {
  "kernelspec": {
   "display_name": "Python 3",
   "language": "python",
   "name": "python3"
  },
  "language_info": {
   "codemirror_mode": {
    "name": "ipython",
    "version": 3
   },
   "file_extension": ".py",
   "mimetype": "text/x-python",
   "name": "python",
   "nbconvert_exporter": "python",
   "pygments_lexer": "ipython3",
   "version": "3.7.6"
  }
 },
 "nbformat": 4,
 "nbformat_minor": 4
}
